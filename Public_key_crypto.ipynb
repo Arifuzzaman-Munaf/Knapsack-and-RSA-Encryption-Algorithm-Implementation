{
  "nbformat": 4,
  "nbformat_minor": 0,
  "metadata": {
    "colab": {
      "name": "Public key crypto.ipynb",
      "provenance": []
    },
    "kernelspec": {
      "name": "python3",
      "display_name": "Python 3"
    }
  },
  "cells": [
    {
      "cell_type": "markdown",
      "metadata": {
        "id": "kz98Ou-xa_dB"
      },
      "source": [
        "# **Calculating Multiplicative Inverse Modularity**"
      ]
    },
    {
      "cell_type": "code",
      "metadata": {
        "id": "T6q754K5tXwq",
        "colab": {
          "base_uri": "https://localhost:8080/"
        },
        "outputId": "a451b638-e52e-453b-8787-a10aecbd5110"
      },
      "source": [
        "#Multiplicative Inverse \n",
        "number_to_mod=7\n",
        "number_by_mod=11\n",
        "\n",
        "\n",
        "def result_modular(a,b):\n",
        "#checking for Total relatively prime \n",
        "  n = 0\n",
        "  for i in range(1, min(a, b)+1): \n",
        "    if a %i== b %i==0: \n",
        "        n+=1\n",
        "\n",
        "#Printing modularity     \n",
        "  if n>1:\n",
        "    print(\"no modularity available\")\n",
        "  else:\n",
        "    for i in range(b):\n",
        "      if (a*i)% b==1:\n",
        "        return i\n",
        "\n",
        "result_modular(number_to_mod,number_by_mod)\n"
      ],
      "execution_count": null,
      "outputs": [
        {
          "output_type": "execute_result",
          "data": {
            "text/plain": [
              "8"
            ]
          },
          "metadata": {
            "tags": []
          },
          "execution_count": 1
        }
      ]
    },
    {
      "cell_type": "markdown",
      "metadata": {
        "id": "Jpu-lZOFaitz"
      },
      "source": [
        "# <b>Totient Function<b>"
      ]
    },
    {
      "cell_type": "code",
      "metadata": {
        "id": "Dh5ItXOepV2V",
        "colab": {
          "base_uri": "https://localhost:8080/"
        },
        "outputId": "78acc662-e4fe-4907-9680-7c6e44406a1e"
      },
      "source": [
        "#checking the totient of integers\n",
        "def Totient(n):\n",
        "  from sympy.ntheory.factor_ import totient\n",
        "  return totient(n)\n",
        "\n",
        "Totient(9)"
      ],
      "execution_count": null,
      "outputs": [
        {
          "output_type": "execute_result",
          "data": {
            "text/plain": [
              "6"
            ]
          },
          "metadata": {
            "tags": []
          },
          "execution_count": 2
        }
      ]
    },
    {
      "cell_type": "markdown",
      "metadata": {
        "id": "yWZDa7xGDazM"
      },
      "source": [
        "# **Knapsack Problem**"
      ]
    },
    {
      "cell_type": "code",
      "metadata": {
        "id": "II5Q32L2DkBC",
        "colab": {
          "base_uri": "https://localhost:8080/"
        },
        "outputId": "005188a9-8cd6-420d-d617-5a5b17eec22a"
      },
      "source": [
        "def encryption(message , gk):\n",
        "  c=0\n",
        "  index_list=[]\n",
        "  for i in message:\n",
        "    if i== '1':\n",
        "      index_list.append(c)\n",
        "    c=c+1\n",
        "  value=0;\n",
        "  for i in index_list:\n",
        "    value=value+gk[i]\n",
        "  return value\n",
        "\n",
        "def decryption(decrypted,sik):\n",
        "  list2=[]\n",
        "  solving_path=str(decrypted)+\" = \"\n",
        "  for i in sik:\n",
        "    if i <= decrypted:\n",
        "      list2.append(sik.index(i))\n",
        "      print(str(i)+\" is less or equall to \"+str(decrypted)+\" .so,should be listed. After considering this value remaining weight is = \"+str(decrypted-i))\n",
        "      decrypted=decrypted-i\n",
        "    else:\n",
        "      print(str(i)+\" is greater than \"+str(decrypted)+\". we should not consider this number \")\n",
        "  print(\"\\n\")\n",
        "#generating the plain text\n",
        "  plain_text=[0]*len(sik)\n",
        "  for i in list2:\n",
        "    plain_text[i]=1\n",
        "  plain_text.reverse()\n",
        "  listToStr = ''.join(map(str, plain_text))\n",
        "  list2.reverse()\n",
        "  for i in list2:\n",
        "    solving_path=solving_path+str(sik[i])+\" + \"\n",
        "\n",
        "  print(solving_path[:-2])\n",
        "  print(\"\\nThe plain text is : \"+listToStr)\n",
        "\n",
        "#-------------------------------------SuperIncreasing Knapsack will be given-------------------------------------------       \n",
        "sik =[1, 2, 4, 10, 20, 40]  \n",
        "\n",
        "#printing the sik\n",
        "listToStr = ','.join(map(str, sik))  \n",
        "print(\"The superincreasing knapsack is :(\"+listToStr+\") ; which is our private key\\n\")\n",
        "\n",
        "#------------------------The key converter variables will given in the question which are genegenerally known as \"m\" and \"n\"-----------------------\n",
        "m=31\n",
        "n=110  # \"n\" is the sum of all values in the SIK\n",
        "print(\"here m = \"+str(m)+\" and n is = \"+str(n))\n",
        "\n",
        "#SIK to GK conversion\n",
        "gk=[]\n",
        "print(\"The General knapsack can be computed as -\")\n",
        "for i in sik:\n",
        "  gk.append((i*m)%n)\n",
        "  print(str(i)+\".\"+str(m)+\" mod \"+str(n)+\" = \"+str((i*m)%n))\n",
        "\n",
        "#printing the General Knapsack\n",
        "listToStr = ','.join(map(str, gk))\n",
        "print(\"\\nThe General knapsack is :(\"+listToStr+\") ; which is our public key\\n\")\n",
        "\n",
        "\n",
        "#--------------------------------------------we have to encrypt the following binary text:---------------------------------------------\n",
        "message=\"100100\"\n",
        "print(\"the message we have to encrypt is = \"+message)\n",
        "\n",
        "#Getting the encrypted Value\n",
        "value=encryption(message,gk)\n",
        "print(\"So the encrypted weight using General Knapsack is = \"+str(value)+\"\\n\\n\")\n",
        "\n",
        "#getting m^-1 mod n\n",
        "superscript = str.maketrans(\"-1\", \"-¹\")\n",
        "result=result_modular(m,n)\n",
        "print(\"here, \"+str(m)+\"-1\".translate(superscript)+\" mod \"+str(n)+\" = \"+str(result))\n",
        "\n",
        "#Decryption in process\n",
        "decrypted=(value*result)%n\n",
        "print(\"To decrypt : \\n\"+str(value)+\".\"+str(result)+\" mod \"+str(n)+\" = \"+str(decrypted)+\"\\n\")\n",
        "print(\"solving SIK with value = \"+str(decrypted))\n",
        "sik.reverse()\n",
        "decryption(decrypted , sik)"
      ],
      "execution_count": null,
      "outputs": [
        {
          "output_type": "stream",
          "text": [
            "The superincreasing knapsack is :(1,2,4,10,20,40) ; which is our private key\n",
            "\n",
            "here m = 31 and n is = 110\n",
            "The General knapsack can be computed as -\n",
            "1.31 mod 110 = 31\n",
            "2.31 mod 110 = 62\n",
            "4.31 mod 110 = 14\n",
            "10.31 mod 110 = 90\n",
            "20.31 mod 110 = 70\n",
            "40.31 mod 110 = 30\n",
            "\n",
            "The General knapsack is :(31,62,14,90,70,30) ; which is our public key\n",
            "\n",
            "the message we have to encrypt is = 100100\n",
            "So the encrypted weight using General Knapsack is = 121\n",
            "\n",
            "\n",
            "here, 31-¹ mod 110 = 71\n",
            "To decrypt : \n",
            "121.71 mod 110 = 11\n",
            "\n",
            "solving SIK with value = 11\n",
            "40 is greater than 11. we should not consider this number \n",
            "20 is greater than 11. we should not consider this number \n",
            "10 is less or equall to 11 .so,should be listed. After considering this value remaining weight is = 1\n",
            "4 is greater than 1. we should not consider this number \n",
            "2 is greater than 1. we should not consider this number \n",
            "1 is less or equall to 1 .so,should be listed. After considering this value remaining weight is = 0\n",
            "\n",
            "\n",
            "11 = 1 + 10 \n",
            "\n",
            "The plain text is : 100100\n"
          ],
          "name": "stdout"
        }
      ]
    },
    {
      "cell_type": "markdown",
      "metadata": {
        "id": "NkNkf_No5t6C"
      },
      "source": [
        "# **RSA Encryption Alogorithm** \n",
        "\n"
      ]
    },
    {
      "cell_type": "code",
      "metadata": {
        "id": "5j_HSnIbILT8",
        "colab": {
          "base_uri": "https://localhost:8080/"
        },
        "outputId": "36f482a5-36cc-4bfa-84de-9aef1dcaa85e"
      },
      "source": [
        "def prime(a):\n",
        "  k=0\n",
        "  for i in range(2,a//2+1):\n",
        "      if(a%i==0):\n",
        "          k=k+1\n",
        "  if(k<=0):\n",
        "      return True\n",
        "  else:\n",
        "      return False\n",
        "\n",
        "def PrimeFactorsPairs(n):  \n",
        "  for i in range(1, int(pow(n, 1 / 2))+1): \n",
        "      if n % i == 0 and prime(i) and prime(int(n/i)):\n",
        "        p=int(n/i)\n",
        "        q=i\n",
        "        print(\"P = \"+str(int(n / i)) +\" and Q = \"+str(i))    #P and Q\n",
        "  return p,q \n",
        "# Driver code \n",
        "n = 33\n",
        "e= 9\n",
        "m=19   #-----------------------message to Encrypt------------------------------\n",
        "p,q= 17 , 23\n",
        "moded= (p-1)*(q-1)\n",
        "d=result_modular(e,moded)\n",
        "c=m**e % n      #-------------------------encrypted message---------------------------\n",
        "print(\"Encrypted CiphrtText is = \"+str(c))\n",
        "d"
      ],
      "execution_count": null,
      "outputs": [
        {
          "output_type": "stream",
          "text": [
            "Encrypted CiphrtText is = 7\n"
          ],
          "name": "stdout"
        },
        {
          "output_type": "execute_result",
          "data": {
            "text/plain": [
              "313"
            ]
          },
          "metadata": {
            "tags": []
          },
          "execution_count": 16
        }
      ]
    },
    {
      "cell_type": "code",
      "metadata": {
        "id": "Coge5eQGJok9"
      },
      "source": [
        ""
      ],
      "execution_count": null,
      "outputs": []
    }
  ]
}